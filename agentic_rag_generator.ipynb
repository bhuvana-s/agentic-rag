{
 "cells": [
  {
   "cell_type": "markdown",
   "id": "387e6237-b616-40df-a697-6fc8f514b0f8",
   "metadata": {},
   "source": [
    "### Introduction\n",
    "\n",
    "This is a self-correcting RAG pattern that checks the retrieved contexts for relevancy and the generated answers for hallucinations.\\\n",
    "It is loosely based on this Self-RAG [paper](https://arxiv.org/abs/2310.11511)\n",
    "\n",
    "![flow](resource/flow.png)\n",
    "\n",
    "### Prerequisites\n",
    "The LLM used in this is llama3. The embedding model used is mxbai-embed-large (dimension is 1024).\\\n",
    "\n",
    "#### Ollama installation\n",
    "Install ollama and pull the models if you have not already done so:\n",
    "    -   brew install ollama\n",
    "    -   brew services start ollama\n",
    "    -   ollama pull llama3    # This is 4.7 GB\n",
    "    -   ollama run llama3    # feel free to ask the questions to the llm and to exit, type /bye\n",
    "    -   ollama pull mxbai-embed-large    # This is 669 MB\n",
    "\n",
    "\n",
    "Run the agentic_rag_index notebook before this to index and persist the context docs"
   ]
  },
  {
   "cell_type": "markdown",
   "id": "7109ebc1-36a7-4ad7-8ab1-9bb9bbb3249b",
   "metadata": {},
   "source": [
    "### Build the Execution Graph"
   ]
  },
  {
   "cell_type": "code",
   "execution_count": 24,
   "id": "70cf04e3-75e2-43e3-b6ea-cbee45b51758",
   "metadata": {},
   "outputs": [
    {
     "name": "stdout",
     "output_type": "stream",
     "text": [
      "---LOADING INDEX FROM PERSISTENNT STORE---\n"
     ]
    },
    {
     "data": {
      "text/plain": [
       "<langgraph.graph.state.StateGraph at 0x300bb1c60>"
      ]
     },
     "execution_count": 24,
     "metadata": {},
     "output_type": "execute_result"
    }
   ],
   "source": [
    "# import the necessary libraries\n",
    "from langgraph.graph import END, StateGraph # langgraph is used to compose the workflow\n",
    "from typing_extensions import TypedDict # to define the graph state     \n",
    "from typing import List # to define the list of strings\n",
    "from agentic_rag_helper import Helper # to define the helper functions\n",
    "\n",
    "# define the graph state\n",
    "class GraphState(TypedDict):\n",
    "    question: str\n",
    "    answer: str\n",
    "    context: List[str]\n",
    "    quality: str\n",
    "\n",
    "# load the index\n",
    "helper = Helper()\n",
    "helper.load_index(\"index\")\n",
    "\n",
    "# define the workflow\n",
    "workflow = StateGraph(GraphState)\n",
    "\n",
    "# Define the nodes\n",
    "workflow.add_node(\"check_guardrails\", helper.guardtail_check) \n",
    "workflow.add_node(\"retrieve_context\", helper.retrieve_context) \n",
    "workflow.add_node(\"grade_documents\", helper.grade_chunks) \n",
    "workflow.add_node(\"generate\", helper.generate) \n",
    "workflow.add_node(\"grade_hallucination\", helper.grade_hallucination) \n",
    "\n",
    "# set the entry point\n",
    "workflow.set_entry_point(\"check_guardrails\")\n",
    "\n",
    "# add the edges\n",
    "workflow.add_edge(\"retrieve_context\", \"grade_documents\")\n",
    "workflow.add_conditional_edges(\n",
    "    \"check_guardrails\",\n",
    "    helper.guardrail_decision,\n",
    "    {\n",
    "        \"stop\": END,\n",
    "        \"retrieve_context\": \"retrieve_context\",\n",
    "    }\n",
    ")\n",
    "workflow.add_conditional_edges(\n",
    "    \"grade_documents\",\n",
    "    helper.generation_decision,\n",
    "    {\n",
    "        \"stop\": END,\n",
    "        \"generate\": \"generate\",\n",
    "    }\n",
    ")\n",
    "workflow.add_edge(\"generate\", \"grade_hallucination\")\n",
    "workflow.add_edge(\"grade_hallucination\", END)"
   ]
  },
  {
   "cell_type": "code",
   "execution_count": 25,
   "id": "ace34d27-3792-40a5-9769-1db55dc4d1d7",
   "metadata": {},
   "outputs": [
    {
     "name": "stdout",
     "output_type": "stream",
     "text": [
      "---CHECK FOR TOXICITY---\n",
      "---CLASSIFICASTION is NON_TOXIC--\n",
      "'Finished running: check_guardrails'\n",
      "---RETRIEVE---\n",
      "'Finished running: retrieve_context'\n",
      "---CHECK DOCUMENT RELEVANCE TO QUESTION---\n",
      "The experience was not only physically rewarding but also mentally rejuvenating.\n",
      "\n",
      "\n",
      "{'score': 'no'}\n",
      "---GRADE: DOCUMENT NOT RELEVANT---\n",
      "Nature’s Splendor: Hiking the Mt. Rainier 7.5km Trail\n",
      "   - by Bhuvaneswari Subramani\n",
      "\n",
      "There's something incredibly invigorating about being surrounded by nature, especially when it involves mountains, snow, waterfalls, and a challenging hike. This love for nature brought me to the renowned Mt. Rainier 7.5km Trail, a journey that promised breathtaking views and an unforgettable experience. Here's a detailed account of my adventurous trek on this iconic trail and a big thanks to fellow AWS Heroes who made it possible for me!!\n",
      "\n",
      "Preparation and Excitement\n",
      "The anticipation of exploring Mt. Rainier was electrifying. Known for its stunning landscapes, diverse wildlife, and challenging trails, it was everything I could ask for in a hiking destination.\n",
      "\n",
      "\n",
      "{'score': 'yes'}\n",
      "---GRADE: DOCUMENT RELEVANT---\n",
      "'Finished running: grade_documents'\n",
      "---GENERATE---\n",
      "Generated. Question: What is the author's name?, Answer: {\"author's name\": \"Bhuvaneswari Subramani\"}\n",
      "'Finished running: generate'\n",
      "---CHECK HALLUCINATIONS---\n",
      "{'score': 'yes'}\n",
      "---DECISION: GENERATION IS GROUNDED IN DOCUMENTS---\n",
      "'Finished running: grade_hallucination'\n",
      "'{\"author\\'s name\": \"Bhuvaneswari Subramani\"}'\n"
     ]
    }
   ],
   "source": [
    "# compile the workflow\n",
    "app = workflow.compile()\n",
    "# print the output\n",
    "from pprint import pprint\n",
    "\n",
    "# print the output for the question\n",
    "inputs = {\"question\": \"What is the author's name?\"}\n",
    "for output in app.stream(inputs):\n",
    "    for key, value in output.items():\n",
    "        pprint(f\"Finished running: {key}\")\n",
    "# Check if both 'context' and 'answer' exist in the value dictionary\n",
    "if 'context' in value:\n",
    "    if len(value['context']) == 0:\n",
    "        pprint(\"No relevant chunks available in the knowledge base\")\n",
    "    elif 'answer' in value:\n",
    "        pprint(value[\"answer\"])\n",
    "else:\n",
    "    pprint(\"Exiting as there are no contexts\")"
   ]
  },
  {
   "cell_type": "code",
   "execution_count": 45,
   "id": "50a0e6c6-a4c2-4128-be12-42f0138676b6",
   "metadata": {},
   "outputs": [
    {
     "name": "stdout",
     "output_type": "stream",
     "text": [
      "---CHECK FOR TOXICITY---\n",
      "---CLASSIFICASTION is NON_TOXIC--\n",
      "'Finished running: check_guardrails'\n",
      "---RETRIEVE---\n",
      "'Finished running: retrieve_context'\n",
      "---CHECK DOCUMENT RELEVANCE TO QUESTION---\n",
      "If you ask whether I’ve done enough homework, the answer is no. I relied on our fellow AWS Hero, Richard Fan, who meticulously planned everything. As a first-time hiker, I wanted to experience the total surprise element.\n",
      "\n",
      "Armed with all the necessary gear and a spirit ready for adventure, I arrived at the hiking station at 2:00 PM, refreshed and eager to embark on this thrilling journey.\n",
      "\n",
      "The Beauty of the Trail\n",
      "As we began the hike, the first thing that struck me was the sheer beauty of the surroundings. The trail was flanked by dense forests, the air was crisp, and the sound of birds chirping added a melodic backdrop to the adventure.\n",
      "\n",
      "Overcoming the First Challenge\n",
      "The first 500 meters proved to be a big challenge. My legs felt heavy, and my entire body seemed five times heavier with each step. For a moment, I questioned if I had made the right decision or if I was risking my life. I didn't want to spoil the joy of my fellow hikers, but Brian and Richard reassured me that we could take it slowly and finish together. They even offered to carry my water bottle and snacks to lighten my load. Meanwhile the 4 ambitious hikers Ana, Angela, Lyndon, and Tomasz sped ahead, aiming for a longer trail, while Richard, Brian, and I chose the smaller one.\n",
      "\n",
      "Finding Strength in Small Gestures\n",
      "Sipping water made me dizzy, and I worried about fainting. Thankfully, a friend's suggestion to carry chocolates saved the day. After eating one, I felt much better and started navigating the trail slowly.\n",
      "\n",
      "Reflecting on Past Experiences\n",
      "The first 1.2 km was a struggle, filled with self-doubt. Memories of my National Cadet Corps days, trekking from Mettupalayam to Ooty in Tamil Nadu, came flooding back. Despite representing Coimbatore district in ball badminton and keeping up with daily walking and yoga, I hadn’t tackled such a physically demanding activity in years. The only exceptions were the 30,000 steps a day at AWS re:Invent and the occasional uphill climbs to my favorite Lord Subramanya or walking to Lord Siva temples.\n",
      "\n",
      "Inspiration from Fellow Hikers\n",
      "Seeing a lady in her 60s descending the trail slowly was a big motivation. I stopped by her to ask her experience. She had started at 9:30 AM all alone, walked steadily, and was now nearing the end. Her determination inspired me to keep going.\n",
      "I observed numerous children, aged 6 and older, happily bouncing around as their parents hurried along the hike. I was especially impressed by two fathers who carried their infants in suitable baby slings during the hike.\n",
      "\n",
      "Motivating Myself\n",
      "Several thoughts crossed my mind, but self-talk kept me going. \"Bhuvana, this is your first hike. \n",
      "{'score': 'yes'}\n",
      "---GRADE: DOCUMENT RELEVANT---\n",
      "The experience was not only physically rewarding but also mentally rejuvenating.\n",
      "\n",
      "\n",
      "{'score': 'no'}\n",
      "---GRADE: DOCUMENT NOT RELEVANT---\n",
      "'Finished running: grade_documents'\n",
      "---GENERATE---\n",
      "Generated. Question: What was author's inspiration from fellow hikers?, Answer: { \"The lady in her 60s descending the trail slowly was a big motivation for me to keep going.\" \n",
      "\n",
      "  \t\t\t\t\t\t\t\t\t\t  \t\t\t\t\t\t\t\t\t\t  \t\t\t\t\t\t\t\t\t\t  \t\t\t\t\t\t\t\t\t\t \t\t\t\t\t\t\t\t\t\t \t\t\t\t\t\t\t\t\t\t \t\t\t\t\t\t\t\t\t\t \t\t\t\t\t\t\t\t\t\t \t\t\t\t\t\t\t\t\t\t \t\t\t\t\t\t\t\t\t\t \t\t\t\t\t\t\t\t\t\t \t\t\t\t\t\t\t\t\t\t \t\t\t\t\t\t\t\t\t\t \t\t\t\t\t\t\t\t\t\t \n",
      "'Finished running: generate'\n",
      "---CHECK HALLUCINATIONS---\n",
      "{'score': 'no'}\n",
      "---DECISION: GENERATION IS NOT GROUNDED IN DOCUMENTS, RE-TRY---\n",
      "'Finished running: grade_hallucination'\n",
      "'No relevant answer available in the knowledgebase'\n"
     ]
    }
   ],
   "source": [
    "\n",
    "app = workflow.compile()\n",
    "\n",
    "from pprint import pprint\n",
    "\n",
    "inputs = {\"question\": \"What was author's inspiration from fellow hikers?\"}\n",
    "for output in app.stream(inputs):\n",
    "    for key, value in output.items():\n",
    "        pprint(f\"Finished running: {key}\")\n",
    "\n",
    "# Check if both 'context' and 'answer' exist in the value dictionary\n",
    "if 'context' in value:\n",
    "    if len(value['context']) == 0:\n",
    "        pprint(\"No relevant chunks available in the knowledge base\")\n",
    "    elif 'answer' in value:\n",
    "        pprint(value[\"answer\"])"
   ]
  },
  {
   "cell_type": "code",
   "execution_count": 46,
   "id": "24f54b4a-a507-40ed-b642-b4108eedf41e",
   "metadata": {},
   "outputs": [
    {
     "name": "stdout",
     "output_type": "stream",
     "text": [
      "---CHECK FOR TOXICITY---\n",
      "---CLASSIFICASTION is TOXIC--\n",
      "'Finished running: check_guardrails'\n"
     ]
    }
   ],
   "source": [
    "app = workflow.compile()\n",
    "\n",
    "from pprint import pprint\n",
    "\n",
    "inputs = {\"question\": \"A man hates the injured hiker and wants to throw him off the mountain?\"}\n",
    "for output in app.stream(inputs):\n",
    "    for key, value in output.items():\n",
    "        pprint(f\"Finished running: {key}\")\n",
    "# Check if both 'context' and 'answer' exist in the value dictionary\n",
    "if 'context' in value:\n",
    "    if len(value['context']) == 0:\n",
    "        pprint(\"No relevant chunks available in the knowledge base\")\n",
    "    elif 'answer' in value:\n",
    "        pprint(value[\"answer\"])"
   ]
  },
  {
   "cell_type": "code",
   "execution_count": null,
   "id": "9102ac4f",
   "metadata": {},
   "outputs": [],
   "source": []
  }
 ],
 "metadata": {
  "kernelspec": {
   "display_name": "my-python3-kernel",
   "language": "python",
   "name": "my-python3-kernel"
  },
  "language_info": {
   "codemirror_mode": {
    "name": "ipython",
    "version": 3
   },
   "file_extension": ".py",
   "mimetype": "text/x-python",
   "name": "python",
   "nbconvert_exporter": "python",
   "pygments_lexer": "ipython3",
   "version": "3.10.15"
  }
 },
 "nbformat": 4,
 "nbformat_minor": 5
}
