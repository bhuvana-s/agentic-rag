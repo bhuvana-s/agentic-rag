{
 "cells": [
  {
   "cell_type": "code",
   "execution_count": 5,
   "metadata": {},
   "outputs": [],
   "source": [
    "# this is a simple example of how to use llama index to create an index and query it    \n",
    "# import necessary libraries\n",
    "\n",
    "from llama_index.core import (\n",
    "    SimpleDirectoryReader,\n",
    "    load_index_from_storage,\n",
    "    VectorStoreIndex,\n",
    "    StorageContext,\n",
    "    ServiceContext\n",
    ")\n",
    "from llama_index.vector_stores.faiss import FaissVectorStore\n",
    "from IPython.display import Markdown, display\n",
    "from llama_index.embeddings.ollama import OllamaEmbedding\n",
    "import faiss\n",
    "from llama_index.core.retrievers import VectorIndexRetriever\n",
    "from llama_index.core.query_engine import RetrieverQueryEngine\n",
    "from llama_index.core.node_parser import SemanticSplitterNodeParser\n",
    "from llama_index.embeddings.ollama import OllamaEmbedding\n",
    "from llama_index.core.response.notebook_utils import display_source_node\n",
    "from llama_index.core import Settings"
   ]
  },
  {
   "cell_type": "code",
   "execution_count": 6,
   "metadata": {},
   "outputs": [
    {
     "name": "stdout",
     "output_type": "stream",
     "text": [
      "LLM is explicitly disabled. Using MockLLM.\n"
     ]
    }
   ],
   "source": [
    "# load documents\n",
    "\n",
    "documents = SimpleDirectoryReader(input_files=[\"data/hiking_mt_rainer.txt\"]).load_data()\n",
    "# initialize the embed model\n",
    "embed_model = OllamaEmbedding(\n",
    "    model_name=\"mxbai-embed-large:latest\"\n",
    ")\n",
    "# set the embed model\n",
    "Settings.embed_model = embed_model\n",
    "# set the llm to None\n",
    "Settings.llm = None\n",
    "# initialize the splitter   \n",
    "splitter = SemanticSplitterNodeParser(buffer_size=1, breakpoint_percentail_thresholed=95,\n",
    "                                      embed_model=embed_model)\n",
    "# get the nodes from the documents  \n",
    "nodes = splitter.get_nodes_from_documents(documents)\n",
    "# display the nodes"
   ]
  },
  {
   "cell_type": "code",
   "execution_count": 7,
   "metadata": {},
   "outputs": [
    {
     "name": "stdout",
     "output_type": "stream",
     "text": [
      "0  ----  Node ID: bdade477-8b10-4334-8581-6eab074a9b7f\n",
      "Text: Nature’s Splendor: Hiking the Mt. Rainier 7.5km Trail    - by\n",
      "Bhuvaneswari Subramani  There's something incredibly invigorating\n",
      "about being surrounded by nature, especially when it involves\n",
      "mountains, snow, waterfalls, and a challenging hike. This love for\n",
      "nature brought me to the renowned Mt. Rainier 7.5km Trail, a journey\n",
      "that promised breatht...\n",
      "1  ----  Node ID: 408ce09d-ba15-4e26-96f5-0124030b8b08\n",
      "Text: If you ask whether I’ve done enough homework, the answer is no.\n",
      "I relied on our fellow AWS Hero, Richard Fan, who meticulously planned\n",
      "everything. As a first-time hiker, I wanted to experience the total\n",
      "surprise element.  Armed with all the necessary gear and a spirit\n",
      "ready for adventure, I arrived at the hiking station at 2:00 PM,\n",
      "refreshed and...\n",
      "2  ----  Node ID: af7008fb-4eda-44a3-beab-d903f7dc39a0\n",
      "Text: If not today, you might never make the effort.\n",
      "3  ----  Node ID: 8ddb1c01-610e-4c68-b0ae-3e391810b323\n",
      "Text: But if you do it, it will be a story to tell and a history to\n",
      "make. You might inspire other women to attempt it and encourage your\n",
      "boys to try something harder to become stronger.\"  Reaching new\n",
      "heights As we moved up the mountain, I started feeling lighter, and\n",
      "the air was more refreshing. Richard provided live commentary about\n",
      "our progress and...\n",
      "4  ----  Node ID: 291dd586-44df-4cbe-be6f-6789ff633a4e\n",
      "Text: The experience was physically rewarding and  mentally\n",
      "rejuvenating.\n"
     ]
    }
   ],
   "source": [
    "\n",
    "for i, node in enumerate(nodes):\n",
    "    print(i, \" ---- \", node) #node.get_content()"
   ]
  },
  {
   "cell_type": "code",
   "execution_count": 8,
   "metadata": {},
   "outputs": [
    {
     "data": {
      "text/plain": [
       "True"
      ]
     },
     "execution_count": 8,
     "metadata": {},
     "output_type": "execute_result"
    }
   ],
   "source": [
    "# initialize the faiss index\n",
    "# faiss is a library for efficient similarity search and clustering of dense vectors    \n",
    "\n",
    "faiss_index = faiss.IndexFlatL2(1024)\n",
    "faiss_index.is_trained # check if the index is trained"
   ]
  },
  {
   "cell_type": "code",
   "execution_count": 9,
   "metadata": {},
   "outputs": [],
   "source": [
    "# initialize the vector store   \n",
    "vector_store = FaissVectorStore(faiss_index=faiss_index)\n",
    "# initialize the storage context\n",
    "storage_context = StorageContext.from_defaults(vector_store=vector_store)\n",
    "# initialize the vector store index\n",
    "index = VectorStoreIndex(\n",
    "    nodes, storage_context=storage_context,\n",
    ")"
   ]
  },
  {
   "cell_type": "code",
   "execution_count": 14,
   "metadata": {},
   "outputs": [
    {
     "name": "stdout",
     "output_type": "stream",
     "text": [
      "LLM is explicitly disabled. Using MockLLM.\n"
     ]
    },
    {
     "data": {
      "text/markdown": [
       "**Node ID:** 408ce09d-ba15-4e26-96f5-0124030b8b08<br>**Similarity:** 220.36138916015625<br>**Text:** If you ask whether I’ve done enough homework, the answer is no. I relied on our fellow AWS Hero, Richard Fan, who meticulously planned everything. As a first-time hiker, I wanted to experience the total surprise element.\n",
       "\n",
       "Armed with all the necessary gear and a spirit ready for adventure, I arrived at the hiking station at 2:00 PM, refreshed and eager to embark on this thrilling journey.\n",
       "\n",
       "The Beauty of the Trail\n",
       "As we began the hike, the first thing that struck me was the sheer beauty of the surroundings. The trail was flanked by dense forests, the air was crisp, and the sound of birds chirping added a melodic backdrop to the adventure.\n",
       "\n",
       "Overcoming the First Challenge\n",
       "The first 500 meters proved to be a big challenge. My legs felt heavy, and my entire body seemed five times heavier with each step. For a moment, I questioned if I had made the right decision or if I was risking my life. I didn't want to spoil the joy of my fellow hikers, but Brian and Richard reassured me that we could take it slowly and finish together. They even offered to carry my water bottle and snacks to lighten my load. Meanwhile the 4 ambitious hikers Ana, Angela, Lyndon, and Tomasz sped ahead, aiming for a longer trail, while Richard, Brian, and I chose the smaller one.\n",
       "\n",
       "Finding Strength in Small Gestures\n",
       "Sipping water made me dizzy, and I worried about fainting. Thankfully, a friend's suggestion to carry chocolates saved the day. After eating one, I felt much better and started navigating the trail slowly.\n",
       "\n",
       "Reflecting on Past Experiences\n",
       "The first 1.2 km was a struggle, filled with self-doubt. Memories of my National Cadet Corps days, trekking from Mettupalayam to Ooty in Tamil Nadu, came flooding back. Despite representing Coimbatore district in ball badminton and keeping up with daily walking and yoga, I hadn’t tackled such a physically demanding activity in years. The only exceptions were the 30,000 steps a day at AWS re:Invent and the occasional uphill climbs to my favorite Lord Subra...<br>"
      ],
      "text/plain": [
       "<IPython.core.display.Markdown object>"
      ]
     },
     "metadata": {},
     "output_type": "display_data"
    },
    {
     "data": {
      "text/markdown": [
       "**Node ID:** 8ddb1c01-610e-4c68-b0ae-3e391810b323<br>**Similarity:** 225.81842041015625<br>**Text:** But if you do it, it will be a story to tell and a history to make. You might inspire other women to attempt it and encourage your boys to try something harder to become stronger.\"\n",
       "\n",
       "Reaching new heights\n",
       "As we moved up the mountain, I started feeling lighter, and the air was more refreshing. Richard provided live commentary about our progress and guided us on the route by tracing the map. We walked together slowly and steadily. Walking on the snow was a bit scary because neither of us had a trekking pole or trekking boots, but we managed to push forward.\n",
       "\n",
       "The steeper section\n",
       "As we progressed further, the trail became steeper and more challenging. The elevation gain was noticeable, and with it came patches of snow.\n",
       "\n",
       "Reaching the Summit\n",
       "After hours of trekking, we finally reached the summit. The panoramic view from the top was nothing short of spectacular. I could see the sprawling landscapes, distant peaks, and the beautiful horizon. It was a moment of pure exhilaration and accomplishment. we spent some time at the summit, reflecting on the journey and enjoying the serene beauty around us.\n",
       "\n",
       "A Magical Wildlife Adventure: From Deer to Mermaids\n",
       "During our visit, we were thrilled to spot deer near the visitor center. As we continued our journey, we encountered a wild white goat and even a mermaid, which was quite a surprise! At the top, we were delighted to see squirrels scampering around. Each of these sightings brought us fresh waves of joy and excitement.\n",
       "\n",
       "The Descent\n",
       "The descent was equally challenging but in a different way. Navigating down the steep, snow-covered sections required caution and steady footing. However, the journey back allowed me to see the trail from a different perspective, appreciating the same landscapes in a new light.\n",
       "\n",
       "The contrast between the lush green forests, the vibrant green landscape, and the pristine white snow was mesmerizing. The trail required careful navigation, especially on the snowy sections, but the views made every step worth...<br>"
      ],
      "text/plain": [
       "<IPython.core.display.Markdown object>"
      ]
     },
     "metadata": {},
     "output_type": "display_data"
    }
   ],
   "source": [
    "# set the llm to None\n",
    "Settings.llm = None\n",
    "# initialize the query engine   \n",
    "query_engine = index.as_query_engine()\n",
    "# query the index\n",
    "response = query_engine.query(\n",
    "    \"What was the weather like on the day of the hike?\"\n",
    ")\n",
    "# display the source nodes\n",
    "for n in response.source_nodes:\n",
    "    display_source_node(n, source_length=2000)"
   ]
  },
  {
   "cell_type": "code",
   "execution_count": 12,
   "metadata": {},
   "outputs": [],
   "source": [
    "# persist the index\n",
    "index.storage_context.persist(persist_dir=\"index\")"
   ]
  },
  {
   "cell_type": "code",
   "execution_count": 17,
   "metadata": {},
   "outputs": [],
   "source": [
    "# load the index from the vector store\n",
    "vector_store = FaissVectorStore.from_persist_path(\"./index/default__vector_store.json\")\n",
    "# initialize the storage context\n",
    "storage_context = StorageContext.from_defaults(\n",
    "    vector_store=vector_store, persist_dir=\"./index\"\n",
    ")   \n",
    "# load the index from the storage context\n",
    "retrieved_index = load_index_from_storage(storage_context=storage_context)\n"
   ]
  },
  {
   "cell_type": "code",
   "execution_count": 21,
   "metadata": {},
   "outputs": [
    {
     "data": {
      "text/markdown": [
       "**Node ID:** dc6f71fa-cc89-410e-820f-6089e68a3cdf<br>**Similarity:** 211.5916748046875<br>**Text:** But if you do it, it will be a story to tell and a history to make. You might inspire other women to attempt it and encourage your boys to try something harder to become stronger.\"\n",
       "\n",
       "Reaching new heights\n",
       "As we moved up the mountain, I started feeling lighter, and the air was more refreshing. Richard provided live commentary about our progress and guided us on the route by tracing the map. We walked together slowly and steadily. Walking on the snow was a bit scary because neither of us had a trekking pole or trekking boots, but we managed to push forward.\n",
       "\n",
       "The steeper section\n",
       "As we progressed further, the trail became steeper and more challenging. The elevation gain was noticeable, and with it came patches of snow.\n",
       "\n",
       "Reaching the Summit\n",
       "After hours of trekking, we finally reached the summit. The panoramic view from the top was nothing short of spectacular. I could see the sprawling landscapes, distant peaks, and the beautiful horizon. It was a moment of pure exhilaration and accomplishment. we spent some time at the summit, reflecting on the journey and enjoying the serene beauty around us.\n",
       "\n",
       "A Magical Wildlife Adventure: From Deer to Mermaids\n",
       "During our visit, we were thrilled to spot deer near the visitor center. As we continued our journey, we encountered a wild white goat and even a mermaid, which was quite a surprise! At the top, we were delighted to see squirrels scampering around. Each of these sightings brought us fresh waves of joy and excitement.\n",
       "\n",
       "The Descent\n",
       "The descent was equally challenging but in a different way. Navigating down the steep, snow-covered sections required caution and steady footing. However, the journey back allowed me to see the trail from a different perspective, appreciating the same landscapes in a new light.\n",
       "\n",
       "The contrast between the lush green forests, the vibrant green landscape, and the pristine white snow was mesmerizing. The trail required careful navigation, especially on the snowy sections, but the views made every step worth...<br>"
      ],
      "text/plain": [
       "<IPython.core.display.Markdown object>"
      ]
     },
     "metadata": {},
     "output_type": "display_data"
    },
    {
     "data": {
      "text/markdown": [
       "**Node ID:** c3fce034-5d1b-4cde-9412-a6c435deef8e<br>**Similarity:** 221.59033203125<br>**Text:** Nature’s Splendor: Hiking the Mt. Rainier 7.5km Trail\n",
       "   - by Bhuvaneswari Subramani\n",
       "\n",
       "There's something incredibly invigorating about being surrounded by nature, especially when it involves mountains, snow, waterfalls, and a challenging hike. This love for nature brought me to the renowned Mt. Rainier 7.5km Trail, a journey that promised breathtaking views and an unforgettable experience. Here's a detailed account of my adventurous trek on this iconic trail and a big thanks to fellow AWS Heroes who made it possible for me!!\n",
       "\n",
       "Preparation and Excitement\n",
       "The anticipation of exploring Mt. Rainier was electrifying. Known for its stunning landscapes, diverse wildlife, and challenging trails, it was everything I could ask for in a hiking destination.<br>"
      ],
      "text/plain": [
       "<IPython.core.display.Markdown object>"
      ]
     },
     "metadata": {},
     "output_type": "display_data"
    }
   ],
   "source": [
    "# initialize the retriever\n",
    "retriever = retrieved_index.as_retriever()\n",
    "# retrieve the context\n",
    "response = retriever.retrieve(\n",
    "    \"What was the weather during hike?\"\n",
    ")\n",
    "# display the source nodes\n",
    "for n in response:\n",
    "    display_source_node(n, source_length=2000)"
   ]
  },
  {
   "cell_type": "code",
   "execution_count": null,
   "metadata": {},
   "outputs": [],
   "source": []
  }
 ],
 "metadata": {
  "kernelspec": {
   "display_name": "my-python3-kernel",
   "language": "python",
   "name": "my-python3-kernel"
  },
  "language_info": {
   "codemirror_mode": {
    "name": "ipython",
    "version": 3
   },
   "file_extension": ".py",
   "mimetype": "text/x-python",
   "name": "python",
   "nbconvert_exporter": "python",
   "pygments_lexer": "ipython3",
   "version": "3.10.15"
  }
 },
 "nbformat": 4,
 "nbformat_minor": 4
}
